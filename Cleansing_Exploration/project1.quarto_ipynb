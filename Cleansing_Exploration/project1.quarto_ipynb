{
  "cells": [
    {
      "cell_type": "markdown",
      "metadata": {},
      "source": [
        "---\n",
        "title: \"Client Report - [Whats in a Name?]\"\n",
        "subtitle: \"Course DS 250\"\n",
        "author: \"[MIGUEL SMITH]\"\n",
        "format:\n",
        "  html:\n",
        "    self-contained: true\n",
        "    page-layout: full\n",
        "    title-block-banner: true\n",
        "    toc: true\n",
        "    toc-depth: 3\n",
        "    toc-location: body\n",
        "    number-sections: false\n",
        "    html-math-method: katex\n",
        "    code-fold: true\n",
        "    code-summary: \"Show the code\"\n",
        "    code-overflow: wrap\n",
        "    code-copy: hover\n",
        "    code-tools:\n",
        "        source: false\n",
        "        toggle: true\n",
        "        caption: See code\n",
        "execute: \n",
        "  warning: false\n",
        "    \n",
        "---"
      ],
      "id": "b9fcc0f3"
    },
    {
      "cell_type": "code",
      "metadata": {},
      "source": [
        "import pandas as pd\n",
        "import numpy as np\n",
        "from lets_plot import *\n",
        "\n",
        "LetsPlot.setup_html(isolated_frame=True)\n"
      ],
      "id": "23717056",
      "execution_count": null,
      "outputs": []
    },
    {
      "cell_type": "markdown",
      "metadata": {},
      "source": [
        "## Project Notes\n",
        "\n",
        "__For Project 1 the answer to each question should include a chart **and** a written response. The years labels on your charts should not include a comma. At least **two** of your charts must include reference marks.__  \n"
      ],
      "id": "16e58d36"
    },
    {
      "cell_type": "code",
      "metadata": {},
      "source": [
        "# Learn morea about Code Cells: https://quarto.org/docs/reference/cells/cells-jupyter.html\n",
        "\n",
        "# Include and execute your code here\n",
        "df = pd.read_csv(\"https://github.com/byuidatascience/data4names/raw/master/data-raw/names_year/names_year.csv\")"
      ],
      "id": "83075caa",
      "execution_count": null,
      "outputs": []
    },
    {
      "cell_type": "markdown",
      "metadata": {},
      "source": [
        "## QUESTION|TASK 1 USA life expectancy\n",
        "\n",
        "__How does your name at your birth year compare to its use historically?__\n",
        "\n",
        "Looks like my name was increasing in popularity until its peak in 2006 and 2000 rode that wave. Since 2006 it has decreased in popularity.\n"
      ],
      "id": "c61fd77a"
    },
    {
      "cell_type": "code",
      "metadata": {},
      "source": [
        "# Include and execute your code here\n",
        "\n",
        "\n",
        "miguel_data = df.query('name == \"Miguel\"')\n",
        "\n",
        "(ggplot(data=miguel_data, mapping=aes(x='year', y='Total')) +\n",
        "    geom_line(color='blue') +\n",
        "    geom_point(color='blue')+\n",
        "    geom_vline(xintercept=2000,color='red',linetype='dashed')+\n",
        "    geom_text(x=1980,y=3917,label = \"Year I Was Born -->\") +\n",
        "    labs(\n",
        "      title='Popularity of the Name Miguel Over Time',\n",
        "      x='Year',\n",
        "      y='Babies Named Miguel'\n",
        "    )+\n",
        "    scale_x_continuous(format=\"d\")\n",
        ").show()\n",
        "\n",
        "\n",
        "\n",
        "\n",
        "### Looks like my name was increasing in popularity until its peak in 2006 and 2000 rode that wave. Since 2006 it has decreased in popularity. "
      ],
      "id": "bba84991",
      "execution_count": null,
      "outputs": []
    },
    {
      "cell_type": "markdown",
      "metadata": {},
      "source": [
        "## QUESTION|TASK 2\n",
        "\n",
        "__If you talked to someone named Brittany on the phone, what is your guess of his or her age? What ages would you not guess?__\n",
        "\n",
        "If I was talking to a person named Brittany on the phone I would guess their age to be around 33-37. I would not guess their age to be greater or less than that.\n"
      ],
      "id": "1b798317"
    },
    {
      "cell_type": "code",
      "metadata": {},
      "source": [
        "# Include and execute your code here\n",
        "\n",
        "brittany_data = df.query('name == \"Brittany\"')\n",
        "\n",
        "(ggplot(data=brittany_data, mapping=aes(x='year', y='Total')) +\n",
        "    geom_line(color='blue') +\n",
        "    geom_point(color='blue')+\n",
        "    \n",
        "    labs(\n",
        "      title='Popularity of the name Brittany Over Time',\n",
        "      x='Year',\n",
        "      y='Babies Named Brittany'\n",
        "    )+\n",
        "    scale_x_continuous(format=\"d\")\n",
        "\n",
        ").show()\n",
        "\n",
        "### If I was talking to a person named Brittany on the phone I would guess their age to be around 33-37. I would not guess their age to be greater or less than that.  "
      ],
      "id": "7e7582e2",
      "execution_count": null,
      "outputs": []
    },
    {
      "cell_type": "markdown",
      "metadata": {},
      "source": [
        "## QUESTION|TASK 3\n",
        "\n",
        "__Mary, Martha, Peter, and Paul are all Christian names. From 1920 - 2000, compare the name usage of each of the four names in a single chart. What trends do you notice?__\n",
        "\n",
        "Mary was an extremely popular name before 2000, more than the others. This makes sense knowing christianity was the predominate religion in the USA, perhaps we see this popularity due to Catholicism and their adoration for Mary. \n",
        "An observation presented in class was the Ku Klux Klan reemergence in the 1920s, which resulted in anti-immagration, anti-Catholocism and anti-Semitism. That could have caused the decline we see from ~1920-1936.  \n"
      ],
      "id": "f70867a7"
    },
    {
      "cell_type": "code",
      "metadata": {},
      "source": [
        "# Include and execute your code here\n",
        "christian_names = df.query('name in [\"Mary\",\"Martha\",\"Peter\", \"Paul\"] ')\n",
        "\n",
        "(ggplot(data=christian_names, mapping=aes(x='year', y='Total',color = 'name')) +\n",
        "    geom_line(color='grey') +\n",
        "    geom_point(size=3) +\n",
        "    \n",
        "    \n",
        "    labs(\n",
        "      title='Popularity of Biblical Names Over Time',\n",
        "      x='Year',\n",
        "      y='Babies Named',\n",
        "      color = 'Name'\n",
        "    )+\n",
        "    scale_x_continuous(format=\"d\")+\n",
        "    xlim(1920,2000)\n",
        "\n",
        ").show()\n",
        "\n",
        "### Mary was an extremely popular name before 2000, more than the others. This makes sense knowing christianity was the predominate religion in the world, perhaps we see this popularity due to Catholicism and their adoration for Mary. "
      ],
      "id": "e55eaedb",
      "execution_count": null,
      "outputs": []
    },
    {
      "cell_type": "markdown",
      "metadata": {},
      "source": [
        "## QUESTION|TASK 4\n",
        "\n",
        "__Think of a unique name from a famous movie. Plot the usage of that name and see how changes line up with the movie release. Does it look like the movie had an effect on usage?__  \n",
        "\n",
        "\n",
        "Noting when the first Star Wars movies were released we can make some inferences on how the popularity of the name Luke came to be. We can see slight jumps after the release of A New Hope in 1977 but nothing super significant. We can note the same after Return of the Jedi in 1983. What could be an explanation of the spike in popularity from 1995 and on is that the young people who grew up watching Star Wars could have named their kid(s) Luke when they started having children a few years after the first release."
      ],
      "id": "028a4da6"
    },
    {
      "cell_type": "code",
      "metadata": {},
      "source": [
        "luke_data = df.query('name ==\"Luke\"')\n",
        "\n",
        "(ggplot(data=luke_data, \n",
        "        mapping=aes(x='year', y='Total')) + \n",
        "    geom_line() + \n",
        "    geom_point(size=3) +\n",
        "    scale_x_continuous(format=\"d\") +\n",
        "    geom_vline(xintercept=1977,color='red',linetype='dashed')+\n",
        "    geom_text(x=1957, y = 6000, label = 'A New Hope Released')+\n",
        "    geom_vline(xintercept=1983,color='green',linetype='dashed')+ \n",
        "    geom_text(x=2000, y = 900, label = 'Return of Jedi Released')+\n",
        "\n",
        "    labs(\n",
        "        title='A New Hope(ful name)',\n",
        "        x='Year',\n",
        "        y='Number of Babies Named Luke',\n",
        "        color='Name'\n",
        "    )\n",
        ").show()\n",
        "\n",
        "### For Luke, it does appear that the movie influenced the popularity of the name. It appears that the name might have become that much popular when the generation who grew up with Star Wars had children instead of immediately after the first movie was released. I tried to see if the names from Disney's Frozen had any popularity increase after 2013 but they only increased slightly."
      ],
      "id": "e9ec041b",
      "execution_count": null,
      "outputs": []
    },
    {
      "cell_type": "markdown",
      "metadata": {},
      "source": [
        "---\n",
        "\n",
        "## STRETCH QUESTION|TASK 1\n",
        "\n",
        "__Reproduce the chart Elliot using the data from the `names_year.csv` file.__ \n",
        "\n",
        "_type your results and analysis here_\n"
      ],
      "id": "566a3c11"
    },
    {
      "cell_type": "code",
      "metadata": {},
      "source": [
        "# Include and execute your code here\n",
        "\n",
        "Elliot_data = df.query('name ==\"Elliot\"')\n",
        "\n",
        "(ggplot(data= Elliot_data,\n",
        "    mapping = aes(x='year',y='Total',color='name'))+\n",
        "    geom_line()+  # Remove the fixed color here to let the aesthetic work\n",
        "    geom_vline(xintercept = 1982,color='red',linetype = 'dashed')+\n",
        "    geom_vline(xintercept = 2002,color='red',linetype = 'dashed')+\n",
        "    geom_vline(xintercept = 1985,color='red',linetype = 'dashed')+\n",
        "    geom_text(x=1972,y=1200,label = \"First Release\",color='black')+\n",
        "    geom_text(x=1995,y=1200,label = \"Second Release\",color='black')+\n",
        "    geom_text(x=2012,y=1200,label = \"Third Release\",color='black')+\n",
        "    scale_x_continuous(format='d')+\n",
        "    xlim(1950,2025)+\n",
        "    labs(\n",
        "      title = 'Elliot... What?',\n",
        "      x='Year',\n",
        "      y='Total',\n",
        "      color= 'Name'\n",
        "    ) +\n",
        "    theme(legend_position = 'right')+\n",
        "    scale_color_manual(values=['#800080'])\n",
        ")\n"
      ],
      "id": "dacc2497",
      "execution_count": null,
      "outputs": []
    },
    {
      "cell_type": "markdown",
      "metadata": {},
      "source": [
        "---\n"
      ],
      "id": "05bfe1c7"
    }
  ],
  "metadata": {
    "kernelspec": {
      "display_name": "Python 3",
      "language": "python",
      "name": "python3"
    }
  },
  "nbformat": 4,
  "nbformat_minor": 5
}